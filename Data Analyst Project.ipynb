{
 "cells": [
  {
   "cell_type": "markdown",
   "metadata": {},
   "source": [
    "# Hospital Data Exploration"
   ]
  },
  {
   "cell_type": "markdown",
   "metadata": {},
   "source": [
    "### In this task, I will be working with simulated hospital data based on admissions. The csv files admission_surg and admission_med contain information of patients’ admissions to a hospital’s surgical and medical departments respectively. Imaging.csv contains the medical imaging data results collected throughout each admission. The column ID found in all three files identifies each unique admission."
   ]
  },
  {
   "cell_type": "markdown",
   "metadata": {},
   "source": [
    "##### Import the required libraries"
   ]
  },
  {
   "cell_type": "code",
   "execution_count": 1,
   "metadata": {},
   "outputs": [],
   "source": [
    "import pandas as pd\n",
    "import numpy as np"
   ]
  },
  {
   "cell_type": "markdown",
   "metadata": {},
   "source": [
    "##### Load the data"
   ]
  },
  {
   "cell_type": "code",
   "execution_count": 2,
   "metadata": {},
   "outputs": [],
   "source": [
    "df_surg=pd.read_csv('C:\\\\Users\\\\dell\\\\Downloads\\\\admissions_surg.csv')\n",
    "df_med=pd.read_csv('C:\\\\Users\\\\dell\\\\Downloads\\\\admissions_med.csv')\n",
    "df_img=pd.read_csv(\"C:\\\\Users\\\\dell\\\\Downloads\\\\imaging.csv\")"
   ]
  },
  {
   "cell_type": "markdown",
   "metadata": {},
   "source": [
    "##### De-identify the confidential ID's"
   ]
  },
  {
   "cell_type": "code",
   "execution_count": 3,
   "metadata": {},
   "outputs": [],
   "source": [
    "med_id=df_med['ID']\n",
    "surg_ID=df_surg['ID']"
   ]
  },
  {
   "cell_type": "code",
   "execution_count": 4,
   "metadata": {},
   "outputs": [
    {
     "data": {
      "text/plain": [
       "0        1064\n",
       "1        1066\n",
       "2        1074\n",
       "3        1108\n",
       "4        1137\n",
       "        ...  \n",
       "3495    99787\n",
       "3496    99791\n",
       "3497    99855\n",
       "3498    99858\n",
       "3499    99905\n",
       "Name: ID, Length: 3500, dtype: int64"
      ]
     },
     "execution_count": 4,
     "metadata": {},
     "output_type": "execute_result"
    }
   ],
   "source": [
    "comb_ID=pd.concat([med_id, surg_ID]).drop_duplicates().reset_index(drop=True)\n",
    "comb_ID"
   ]
  },
  {
   "cell_type": "code",
   "execution_count": 5,
   "metadata": {},
   "outputs": [
    {
     "data": {
      "text/html": [
       "<div>\n",
       "<style scoped>\n",
       "    .dataframe tbody tr th:only-of-type {\n",
       "        vertical-align: middle;\n",
       "    }\n",
       "\n",
       "    .dataframe tbody tr th {\n",
       "        vertical-align: top;\n",
       "    }\n",
       "\n",
       "    .dataframe thead th {\n",
       "        text-align: right;\n",
       "    }\n",
       "</style>\n",
       "<table border=\"1\" class=\"dataframe\">\n",
       "  <thead>\n",
       "    <tr style=\"text-align: right;\">\n",
       "      <th></th>\n",
       "      <th>ID</th>\n",
       "    </tr>\n",
       "  </thead>\n",
       "  <tbody>\n",
       "    <tr>\n",
       "      <th>0</th>\n",
       "      <td>1064</td>\n",
       "    </tr>\n",
       "    <tr>\n",
       "      <th>1</th>\n",
       "      <td>1066</td>\n",
       "    </tr>\n",
       "    <tr>\n",
       "      <th>2</th>\n",
       "      <td>1074</td>\n",
       "    </tr>\n",
       "    <tr>\n",
       "      <th>3</th>\n",
       "      <td>1108</td>\n",
       "    </tr>\n",
       "    <tr>\n",
       "      <th>4</th>\n",
       "      <td>1137</td>\n",
       "    </tr>\n",
       "    <tr>\n",
       "      <th>...</th>\n",
       "      <td>...</td>\n",
       "    </tr>\n",
       "    <tr>\n",
       "      <th>3495</th>\n",
       "      <td>99787</td>\n",
       "    </tr>\n",
       "    <tr>\n",
       "      <th>3496</th>\n",
       "      <td>99791</td>\n",
       "    </tr>\n",
       "    <tr>\n",
       "      <th>3497</th>\n",
       "      <td>99855</td>\n",
       "    </tr>\n",
       "    <tr>\n",
       "      <th>3498</th>\n",
       "      <td>99858</td>\n",
       "    </tr>\n",
       "    <tr>\n",
       "      <th>3499</th>\n",
       "      <td>99905</td>\n",
       "    </tr>\n",
       "  </tbody>\n",
       "</table>\n",
       "<p>3500 rows × 1 columns</p>\n",
       "</div>"
      ],
      "text/plain": [
       "         ID\n",
       "0      1064\n",
       "1      1066\n",
       "2      1074\n",
       "3      1108\n",
       "4      1137\n",
       "...     ...\n",
       "3495  99787\n",
       "3496  99791\n",
       "3497  99855\n",
       "3498  99858\n",
       "3499  99905\n",
       "\n",
       "[3500 rows x 1 columns]"
      ]
     },
     "execution_count": 5,
     "metadata": {},
     "output_type": "execute_result"
    }
   ],
   "source": [
    "q1b=pd.DataFrame({'ID': comb_ID})\n",
    "q1b"
   ]
  },
  {
   "cell_type": "code",
   "execution_count": 6,
   "metadata": {},
   "outputs": [
    {
     "data": {
      "text/html": [
       "<div>\n",
       "<style scoped>\n",
       "    .dataframe tbody tr th:only-of-type {\n",
       "        vertical-align: middle;\n",
       "    }\n",
       "\n",
       "    .dataframe tbody tr th {\n",
       "        vertical-align: top;\n",
       "    }\n",
       "\n",
       "    .dataframe thead th {\n",
       "        text-align: right;\n",
       "    }\n",
       "</style>\n",
       "<table border=\"1\" class=\"dataframe\">\n",
       "  <thead>\n",
       "    <tr style=\"text-align: right;\">\n",
       "      <th></th>\n",
       "      <th>ID</th>\n",
       "      <th>DE_ID</th>\n",
       "    </tr>\n",
       "  </thead>\n",
       "  <tbody>\n",
       "    <tr>\n",
       "      <th>0</th>\n",
       "      <td>1064</td>\n",
       "      <td>1</td>\n",
       "    </tr>\n",
       "    <tr>\n",
       "      <th>1</th>\n",
       "      <td>1066</td>\n",
       "      <td>2</td>\n",
       "    </tr>\n",
       "    <tr>\n",
       "      <th>2</th>\n",
       "      <td>1074</td>\n",
       "      <td>3</td>\n",
       "    </tr>\n",
       "    <tr>\n",
       "      <th>3</th>\n",
       "      <td>1108</td>\n",
       "      <td>4</td>\n",
       "    </tr>\n",
       "    <tr>\n",
       "      <th>4</th>\n",
       "      <td>1137</td>\n",
       "      <td>5</td>\n",
       "    </tr>\n",
       "    <tr>\n",
       "      <th>...</th>\n",
       "      <td>...</td>\n",
       "      <td>...</td>\n",
       "    </tr>\n",
       "    <tr>\n",
       "      <th>3495</th>\n",
       "      <td>99787</td>\n",
       "      <td>3496</td>\n",
       "    </tr>\n",
       "    <tr>\n",
       "      <th>3496</th>\n",
       "      <td>99791</td>\n",
       "      <td>3497</td>\n",
       "    </tr>\n",
       "    <tr>\n",
       "      <th>3497</th>\n",
       "      <td>99855</td>\n",
       "      <td>3498</td>\n",
       "    </tr>\n",
       "    <tr>\n",
       "      <th>3498</th>\n",
       "      <td>99858</td>\n",
       "      <td>3499</td>\n",
       "    </tr>\n",
       "    <tr>\n",
       "      <th>3499</th>\n",
       "      <td>99905</td>\n",
       "      <td>3500</td>\n",
       "    </tr>\n",
       "  </tbody>\n",
       "</table>\n",
       "<p>3500 rows × 2 columns</p>\n",
       "</div>"
      ],
      "text/plain": [
       "         ID  DE_ID\n",
       "0      1064      1\n",
       "1      1066      2\n",
       "2      1074      3\n",
       "3      1108      4\n",
       "4      1137      5\n",
       "...     ...    ...\n",
       "3495  99787   3496\n",
       "3496  99791   3497\n",
       "3497  99855   3498\n",
       "3498  99858   3499\n",
       "3499  99905   3500\n",
       "\n",
       "[3500 rows x 2 columns]"
      ]
     },
     "execution_count": 6,
     "metadata": {},
     "output_type": "execute_result"
    }
   ],
   "source": [
    "q1b['DE_ID']= range(1, len(q1b)+1)\n",
    "q1b"
   ]
  },
  {
   "cell_type": "code",
   "execution_count": 7,
   "metadata": {},
   "outputs": [
    {
     "data": {
      "text/plain": [
       "True"
      ]
     },
     "execution_count": 7,
     "metadata": {},
     "output_type": "execute_result"
    }
   ],
   "source": [
    "q1b['DE_ID'].is_unique"
   ]
  },
  {
   "cell_type": "markdown",
   "metadata": {},
   "source": [
    "##### Place back the De-identified ID's into original Datasets and remove confidential ID's"
   ]
  },
  {
   "cell_type": "code",
   "execution_count": 8,
   "metadata": {},
   "outputs": [],
   "source": [
    "def new_datasets(dataset):\n",
    "   return dataset.merge(q1b, on='ID').drop(columns='ID')"
   ]
  },
  {
   "cell_type": "code",
   "execution_count": 9,
   "metadata": {},
   "outputs": [],
   "source": [
    "df_med_ID= new_datasets(df_med)\n",
    "df_surg_ID= new_datasets(df_surg)\n",
    "df_img_ID=new_datasets(df_img)"
   ]
  },
  {
   "cell_type": "markdown",
   "metadata": {},
   "source": [
    "#### Combine surgical and medical csv's, and merge with imaging data using DE_ID"
   ]
  },
  {
   "cell_type": "markdown",
   "metadata": {},
   "source": [
    "##### Before combining check if the column names are same or not, to combine vertically\n",
    "##### If not, make it same before combining "
   ]
  },
  {
   "cell_type": "code",
   "execution_count": 11,
   "metadata": {},
   "outputs": [],
   "source": [
    "df_med_ID.columns = df_med_ID.columns.str.lower()\n",
    "df_surg_ID.columns = df_surg_ID.columns.str.lower()\n",
    "df_img_ID.columns = df_img_ID.columns.str.lower()"
   ]
  },
  {
   "cell_type": "code",
   "execution_count": 12,
   "metadata": {},
   "outputs": [],
   "source": [
    "df_surg_ID.columns = df_surg_ID.columns.str.replace('.', '_')"
   ]
  },
  {
   "cell_type": "code",
   "execution_count": 13,
   "metadata": {},
   "outputs": [
    {
     "data": {
      "text/plain": [
       "Index(['admission_date', 'admission_time', 'discharge_date', 'discharge_time',\n",
       "       'department', 'gender', 'age', 'main_diagnosis_icd10',\n",
       "       'main_diagnosis_name', 'de_id'],\n",
       "      dtype='object')"
      ]
     },
     "execution_count": 13,
     "metadata": {},
     "output_type": "execute_result"
    }
   ],
   "source": [
    "df_med_ID.columns\n"
   ]
  },
  {
   "cell_type": "code",
   "execution_count": 14,
   "metadata": {},
   "outputs": [
    {
     "data": {
      "text/plain": [
       "Index(['admission_date', 'admission_time', 'discharge_date', 'discharge_time',\n",
       "       'department', 'gender', 'age', 'main_diagnosis_icd10',\n",
       "       'main_diagnosis_name', 'de_id'],\n",
       "      dtype='object')"
      ]
     },
     "execution_count": 14,
     "metadata": {},
     "output_type": "execute_result"
    }
   ],
   "source": [
    "df_surg_ID.columns"
   ]
  },
  {
   "cell_type": "markdown",
   "metadata": {},
   "source": [
    "### Merge: When there is key column ( 1 or 2) that matches\n",
    "### Concat: When there is no matching column (axis=1, keeps all columns (horizontal); axis=0, keeps all rows (vertical))"
   ]
  },
  {
   "cell_type": "code",
   "execution_count": 15,
   "metadata": {},
   "outputs": [
    {
     "data": {
      "text/html": [
       "<div>\n",
       "<style scoped>\n",
       "    .dataframe tbody tr th:only-of-type {\n",
       "        vertical-align: middle;\n",
       "    }\n",
       "\n",
       "    .dataframe tbody tr th {\n",
       "        vertical-align: top;\n",
       "    }\n",
       "\n",
       "    .dataframe thead th {\n",
       "        text-align: right;\n",
       "    }\n",
       "</style>\n",
       "<table border=\"1\" class=\"dataframe\">\n",
       "  <thead>\n",
       "    <tr style=\"text-align: right;\">\n",
       "      <th></th>\n",
       "      <th>admission_date</th>\n",
       "      <th>admission_time</th>\n",
       "      <th>discharge_date</th>\n",
       "      <th>discharge_time</th>\n",
       "      <th>department</th>\n",
       "      <th>gender</th>\n",
       "      <th>age</th>\n",
       "      <th>main_diagnosis_icd10</th>\n",
       "      <th>main_diagnosis_name</th>\n",
       "      <th>de_id</th>\n",
       "    </tr>\n",
       "  </thead>\n",
       "  <tbody>\n",
       "    <tr>\n",
       "      <th>0</th>\n",
       "      <td>1985-10-19</td>\n",
       "      <td>04:27</td>\n",
       "      <td>1986-01-01</td>\n",
       "      <td>NaN</td>\n",
       "      <td>General Internal Medicine</td>\n",
       "      <td>M</td>\n",
       "      <td>63.0</td>\n",
       "      <td>N830</td>\n",
       "      <td>Ovarian cyst</td>\n",
       "      <td>1</td>\n",
       "    </tr>\n",
       "    <tr>\n",
       "      <th>1</th>\n",
       "      <td>1990-06-26</td>\n",
       "      <td>21:06</td>\n",
       "      <td>1990-09-03</td>\n",
       "      <td>21:03</td>\n",
       "      <td>General Internal Medicine</td>\n",
       "      <td>F</td>\n",
       "      <td>63.0</td>\n",
       "      <td>N410</td>\n",
       "      <td>Inflammatory conditions of male genital organs</td>\n",
       "      <td>2</td>\n",
       "    </tr>\n",
       "  </tbody>\n",
       "</table>\n",
       "</div>"
      ],
      "text/plain": [
       "  admission_date admission_time discharge_date discharge_time  \\\n",
       "0     1985-10-19          04:27     1986-01-01            NaN   \n",
       "1     1990-06-26          21:06     1990-09-03          21:03   \n",
       "\n",
       "                  department gender   age main_diagnosis_icd10  \\\n",
       "0  General Internal Medicine      M  63.0                 N830   \n",
       "1  General Internal Medicine      F  63.0                 N410   \n",
       "\n",
       "                              main_diagnosis_name  de_id  \n",
       "0                                    Ovarian cyst      1  \n",
       "1  Inflammatory conditions of male genital organs      2  "
      ]
     },
     "execution_count": 15,
     "metadata": {},
     "output_type": "execute_result"
    }
   ],
   "source": [
    "admissions_img= pd.concat([df_med_ID, df_surg_ID], axis=0)\n",
    "admissions_img.head(2)"
   ]
  },
  {
   "cell_type": "code",
   "execution_count": 16,
   "metadata": {},
   "outputs": [
    {
     "data": {
      "text/html": [
       "<div>\n",
       "<style scoped>\n",
       "    .dataframe tbody tr th:only-of-type {\n",
       "        vertical-align: middle;\n",
       "    }\n",
       "\n",
       "    .dataframe tbody tr th {\n",
       "        vertical-align: top;\n",
       "    }\n",
       "\n",
       "    .dataframe thead th {\n",
       "        text-align: right;\n",
       "    }\n",
       "</style>\n",
       "<table border=\"1\" class=\"dataframe\">\n",
       "  <thead>\n",
       "    <tr style=\"text-align: right;\">\n",
       "      <th></th>\n",
       "      <th>admission_date</th>\n",
       "      <th>admission_time</th>\n",
       "      <th>discharge_date</th>\n",
       "      <th>discharge_time</th>\n",
       "      <th>department</th>\n",
       "      <th>gender</th>\n",
       "      <th>age</th>\n",
       "      <th>main_diagnosis_icd10</th>\n",
       "      <th>main_diagnosis_name</th>\n",
       "      <th>de_id</th>\n",
       "      <th>test_name</th>\n",
       "      <th>ordered_date_time</th>\n",
       "      <th>performed_date</th>\n",
       "      <th>performed_time</th>\n",
       "      <th>technician_name</th>\n",
       "      <th>brief_report</th>\n",
       "    </tr>\n",
       "  </thead>\n",
       "  <tbody>\n",
       "    <tr>\n",
       "      <th>0</th>\n",
       "      <td>1985-10-19</td>\n",
       "      <td>04:27</td>\n",
       "      <td>1986-01-01</td>\n",
       "      <td>NaN</td>\n",
       "      <td>General Internal Medicine</td>\n",
       "      <td>M</td>\n",
       "      <td>63.0</td>\n",
       "      <td>N830</td>\n",
       "      <td>Ovarian cyst</td>\n",
       "      <td>1</td>\n",
       "      <td>US</td>\n",
       "      <td>NaN</td>\n",
       "      <td>1985-12-17</td>\n",
       "      <td>10:27</td>\n",
       "      <td>Trevon Hopson</td>\n",
       "      <td>No significant abnormality</td>\n",
       "    </tr>\n",
       "    <tr>\n",
       "      <th>1</th>\n",
       "      <td>1985-10-19</td>\n",
       "      <td>04:27</td>\n",
       "      <td>1986-01-01</td>\n",
       "      <td>NaN</td>\n",
       "      <td>General Internal Medicine</td>\n",
       "      <td>M</td>\n",
       "      <td>63.0</td>\n",
       "      <td>N830</td>\n",
       "      <td>Ovarian cyst</td>\n",
       "      <td>1</td>\n",
       "      <td>US PELVIS</td>\n",
       "      <td>NaN</td>\n",
       "      <td>1985-12-02</td>\n",
       "      <td>11:40</td>\n",
       "      <td>Claire Melko</td>\n",
       "      <td>Indication: normal</td>\n",
       "    </tr>\n",
       "  </tbody>\n",
       "</table>\n",
       "</div>"
      ],
      "text/plain": [
       "  admission_date admission_time discharge_date discharge_time  \\\n",
       "0     1985-10-19          04:27     1986-01-01            NaN   \n",
       "1     1985-10-19          04:27     1986-01-01            NaN   \n",
       "\n",
       "                  department gender   age main_diagnosis_icd10  \\\n",
       "0  General Internal Medicine      M  63.0                 N830   \n",
       "1  General Internal Medicine      M  63.0                 N830   \n",
       "\n",
       "  main_diagnosis_name  de_id  test_name ordered_date_time performed_date  \\\n",
       "0        Ovarian cyst      1         US               NaN     1985-12-17   \n",
       "1        Ovarian cyst      1  US PELVIS               NaN     1985-12-02   \n",
       "\n",
       "  performed_time technician_name                brief_report  \n",
       "0          10:27   Trevon Hopson  No significant abnormality  \n",
       "1          11:40    Claire Melko          Indication: normal  "
      ]
     },
     "execution_count": 16,
     "metadata": {},
     "output_type": "execute_result"
    }
   ],
   "source": [
    "final_merged= admissions_img.merge(df_img_ID, on='de_id')\n",
    "final_merged.head(2)"
   ]
  },
  {
   "cell_type": "code",
   "execution_count": 17,
   "metadata": {},
   "outputs": [
    {
     "data": {
      "text/html": [
       "<div>\n",
       "<style scoped>\n",
       "    .dataframe tbody tr th:only-of-type {\n",
       "        vertical-align: middle;\n",
       "    }\n",
       "\n",
       "    .dataframe tbody tr th {\n",
       "        vertical-align: top;\n",
       "    }\n",
       "\n",
       "    .dataframe thead th {\n",
       "        text-align: right;\n",
       "    }\n",
       "</style>\n",
       "<table border=\"1\" class=\"dataframe\">\n",
       "  <thead>\n",
       "    <tr style=\"text-align: right;\">\n",
       "      <th></th>\n",
       "      <th>admission_date</th>\n",
       "      <th>admission_time</th>\n",
       "      <th>discharge_date</th>\n",
       "      <th>discharge_time</th>\n",
       "      <th>department</th>\n",
       "      <th>gender</th>\n",
       "      <th>age</th>\n",
       "      <th>main_diagnosis_icd10</th>\n",
       "      <th>main_diagnosis_name</th>\n",
       "      <th>de_id</th>\n",
       "    </tr>\n",
       "  </thead>\n",
       "  <tbody>\n",
       "    <tr>\n",
       "      <th>0</th>\n",
       "      <td>1998-02-01</td>\n",
       "      <td>07:02</td>\n",
       "      <td>1998-03-31</td>\n",
       "      <td>07:17</td>\n",
       "      <td>General Surgery</td>\n",
       "      <td>M</td>\n",
       "      <td>NaN</td>\n",
       "      <td>E0800</td>\n",
       "      <td>Diabetes mellitus with complications</td>\n",
       "      <td>2306</td>\n",
       "    </tr>\n",
       "    <tr>\n",
       "      <th>1</th>\n",
       "      <td>2010-11-30</td>\n",
       "      <td>04:33</td>\n",
       "      <td>2011-03-25</td>\n",
       "      <td>20:59</td>\n",
       "      <td>General Surgery</td>\n",
       "      <td>F</td>\n",
       "      <td>24.0</td>\n",
       "      <td>M0500</td>\n",
       "      <td>Rheumatoid arthritis and related disease</td>\n",
       "      <td>2307</td>\n",
       "    </tr>\n",
       "  </tbody>\n",
       "</table>\n",
       "</div>"
      ],
      "text/plain": [
       "  admission_date admission_time discharge_date discharge_time  \\\n",
       "0     1998-02-01          07:02     1998-03-31          07:17   \n",
       "1     2010-11-30          04:33     2011-03-25          20:59   \n",
       "\n",
       "        department gender   age main_diagnosis_icd10  \\\n",
       "0  General Surgery      M   NaN                E0800   \n",
       "1  General Surgery      F  24.0                M0500   \n",
       "\n",
       "                        main_diagnosis_name  de_id  \n",
       "0      Diabetes mellitus with complications   2306  \n",
       "1  Rheumatoid arthritis and related disease   2307  "
      ]
     },
     "execution_count": 17,
     "metadata": {},
     "output_type": "execute_result"
    }
   ],
   "source": [
    "df_surg_ID.head(2)"
   ]
  },
  {
   "cell_type": "markdown",
   "metadata": {},
   "source": [
    "##### Create new column called length_of_stay variable defined as discharge date and time minus admission date and time (in days)"
   ]
  },
  {
   "cell_type": "code",
   "execution_count": 19,
   "metadata": {},
   "outputs": [],
   "source": [
    "final_merged['discharge_time'].fillna('00:00', inplace=True)\n",
    "final_merged['admission_time'].fillna('00:00', inplace=True)"
   ]
  },
  {
   "cell_type": "code",
   "execution_count": 20,
   "metadata": {},
   "outputs": [
    {
     "data": {
      "text/plain": [
       "admission_date           object\n",
       "admission_time           object\n",
       "discharge_date           object\n",
       "discharge_time           object\n",
       "department               object\n",
       "gender                   object\n",
       "age                     float64\n",
       "main_diagnosis_icd10     object\n",
       "main_diagnosis_name      object\n",
       "de_id                     int64\n",
       "test_name                object\n",
       "ordered_date_time        object\n",
       "performed_date           object\n",
       "performed_time           object\n",
       "technician_name          object\n",
       "brief_report             object\n",
       "dtype: object"
      ]
     },
     "execution_count": 20,
     "metadata": {},
     "output_type": "execute_result"
    }
   ],
   "source": [
    "final_merged.dtypes"
   ]
  },
  {
   "cell_type": "code",
   "execution_count": 21,
   "metadata": {},
   "outputs": [],
   "source": [
    "final_merged['admission_date_time']=pd.to_datetime(final_merged['admission_date']+ ' ' +final_merged['admission_time'], format='%Y-%m-%d %H:%M')"
   ]
  },
  {
   "cell_type": "code",
   "execution_count": 22,
   "metadata": {},
   "outputs": [
    {
     "data": {
      "text/plain": [
       "0      1986-01-01 00:00:00\n",
       "1      1986-01-01 00:00:00\n",
       "2      1990-09-03 21:03:00\n",
       "3      1994-12-22 07:21:00\n",
       "4      2005-04-19 00:00:00\n",
       "               ...        \n",
       "4995   2006-08-21 02:45:00\n",
       "4996   1999-08-26 23:55:00\n",
       "4997   1999-08-26 23:55:00\n",
       "4998   1999-08-26 23:55:00\n",
       "4999   2010-05-30 14:18:00\n",
       "Name: discharge_date_time, Length: 5000, dtype: datetime64[ns]"
      ]
     },
     "execution_count": 22,
     "metadata": {},
     "output_type": "execute_result"
    }
   ],
   "source": [
    "final_merged['discharge_date_time'] = pd.to_datetime(final_merged['discharge_date']+ ' ' +final_merged['discharge_time'], format='%Y-%m-%d %H:%M')\n",
    "final_merged['discharge_date_time']"
   ]
  },
  {
   "cell_type": "code",
   "execution_count": 23,
   "metadata": {},
   "outputs": [],
   "source": [
    "final_merged['length_of_stay']=(final_merged['discharge_date_time']-final_merged['admission_date_time']).dt.days"
   ]
  },
  {
   "cell_type": "code",
   "execution_count": 24,
   "metadata": {},
   "outputs": [
    {
     "data": {
      "text/html": [
       "<div>\n",
       "<style scoped>\n",
       "    .dataframe tbody tr th:only-of-type {\n",
       "        vertical-align: middle;\n",
       "    }\n",
       "\n",
       "    .dataframe tbody tr th {\n",
       "        vertical-align: top;\n",
       "    }\n",
       "\n",
       "    .dataframe thead th {\n",
       "        text-align: right;\n",
       "    }\n",
       "</style>\n",
       "<table border=\"1\" class=\"dataframe\">\n",
       "  <thead>\n",
       "    <tr style=\"text-align: right;\">\n",
       "      <th></th>\n",
       "      <th>admission_date</th>\n",
       "      <th>admission_time</th>\n",
       "      <th>discharge_date</th>\n",
       "      <th>discharge_time</th>\n",
       "      <th>department</th>\n",
       "      <th>gender</th>\n",
       "      <th>age</th>\n",
       "      <th>main_diagnosis_icd10</th>\n",
       "      <th>main_diagnosis_name</th>\n",
       "      <th>de_id</th>\n",
       "      <th>test_name</th>\n",
       "      <th>ordered_date_time</th>\n",
       "      <th>performed_date</th>\n",
       "      <th>performed_time</th>\n",
       "      <th>technician_name</th>\n",
       "      <th>brief_report</th>\n",
       "      <th>admission_date_time</th>\n",
       "      <th>discharge_date_time</th>\n",
       "      <th>length_of_stay</th>\n",
       "    </tr>\n",
       "  </thead>\n",
       "  <tbody>\n",
       "    <tr>\n",
       "      <th>0</th>\n",
       "      <td>1985-10-19</td>\n",
       "      <td>04:27</td>\n",
       "      <td>1986-01-01</td>\n",
       "      <td>00:00</td>\n",
       "      <td>General Internal Medicine</td>\n",
       "      <td>M</td>\n",
       "      <td>63.0</td>\n",
       "      <td>N830</td>\n",
       "      <td>Ovarian cyst</td>\n",
       "      <td>1</td>\n",
       "      <td>US</td>\n",
       "      <td>NaN</td>\n",
       "      <td>1985-12-17</td>\n",
       "      <td>10:27</td>\n",
       "      <td>Trevon Hopson</td>\n",
       "      <td>No significant abnormality</td>\n",
       "      <td>1985-10-19 04:27:00</td>\n",
       "      <td>1986-01-01</td>\n",
       "      <td>73</td>\n",
       "    </tr>\n",
       "    <tr>\n",
       "      <th>1</th>\n",
       "      <td>1985-10-19</td>\n",
       "      <td>04:27</td>\n",
       "      <td>1986-01-01</td>\n",
       "      <td>00:00</td>\n",
       "      <td>General Internal Medicine</td>\n",
       "      <td>M</td>\n",
       "      <td>63.0</td>\n",
       "      <td>N830</td>\n",
       "      <td>Ovarian cyst</td>\n",
       "      <td>1</td>\n",
       "      <td>US PELVIS</td>\n",
       "      <td>NaN</td>\n",
       "      <td>1985-12-02</td>\n",
       "      <td>11:40</td>\n",
       "      <td>Claire Melko</td>\n",
       "      <td>Indication: normal</td>\n",
       "      <td>1985-10-19 04:27:00</td>\n",
       "      <td>1986-01-01</td>\n",
       "      <td>73</td>\n",
       "    </tr>\n",
       "  </tbody>\n",
       "</table>\n",
       "</div>"
      ],
      "text/plain": [
       "  admission_date admission_time discharge_date discharge_time  \\\n",
       "0     1985-10-19          04:27     1986-01-01          00:00   \n",
       "1     1985-10-19          04:27     1986-01-01          00:00   \n",
       "\n",
       "                  department gender   age main_diagnosis_icd10  \\\n",
       "0  General Internal Medicine      M  63.0                 N830   \n",
       "1  General Internal Medicine      M  63.0                 N830   \n",
       "\n",
       "  main_diagnosis_name  de_id  test_name ordered_date_time performed_date  \\\n",
       "0        Ovarian cyst      1         US               NaN     1985-12-17   \n",
       "1        Ovarian cyst      1  US PELVIS               NaN     1985-12-02   \n",
       "\n",
       "  performed_time technician_name                brief_report  \\\n",
       "0          10:27   Trevon Hopson  No significant abnormality   \n",
       "1          11:40    Claire Melko          Indication: normal   \n",
       "\n",
       "  admission_date_time discharge_date_time  length_of_stay  \n",
       "0 1985-10-19 04:27:00          1986-01-01              73  \n",
       "1 1985-10-19 04:27:00          1986-01-01              73  "
      ]
     },
     "execution_count": 24,
     "metadata": {},
     "output_type": "execute_result"
    }
   ],
   "source": [
    "final_merged.head(2)"
   ]
  },
  {
   "cell_type": "markdown",
   "metadata": {},
   "source": [
    "##### Calculate the mean length_of_stay for each department."
   ]
  },
  {
   "cell_type": "code",
   "execution_count": 132,
   "metadata": {},
   "outputs": [
    {
     "data": {
      "text/plain": [
       "department\n",
       "Addiction Services            99.980983\n",
       "General Internal Medicine     97.745682\n",
       "General Surgery              100.395425\n",
       "Obstetrics                   104.267894\n",
       "Oncology                     102.308989\n",
       "Palliative Care               95.750943\n",
       "Name: length_of_stay, dtype: float64"
      ]
     },
     "execution_count": 132,
     "metadata": {},
     "output_type": "execute_result"
    }
   ],
   "source": [
    "final_merged.groupby('department')['length_of_stay'].mean()"
   ]
  },
  {
   "cell_type": "code",
   "execution_count": 26,
   "metadata": {},
   "outputs": [
    {
     "data": {
      "text/html": [
       "<div>\n",
       "<style scoped>\n",
       "    .dataframe tbody tr th:only-of-type {\n",
       "        vertical-align: middle;\n",
       "    }\n",
       "\n",
       "    .dataframe tbody tr th {\n",
       "        vertical-align: top;\n",
       "    }\n",
       "\n",
       "    .dataframe thead th {\n",
       "        text-align: right;\n",
       "    }\n",
       "</style>\n",
       "<table border=\"1\" class=\"dataframe\">\n",
       "  <thead>\n",
       "    <tr style=\"text-align: right;\">\n",
       "      <th></th>\n",
       "      <th>test_name</th>\n",
       "      <th>ordered_date_time</th>\n",
       "      <th>performed_date</th>\n",
       "      <th>performed_time</th>\n",
       "      <th>technician_name</th>\n",
       "      <th>brief_report</th>\n",
       "      <th>de_id</th>\n",
       "    </tr>\n",
       "  </thead>\n",
       "  <tbody>\n",
       "    <tr>\n",
       "      <th>0</th>\n",
       "      <td>US</td>\n",
       "      <td>NaN</td>\n",
       "      <td>1985-12-17</td>\n",
       "      <td>10:27</td>\n",
       "      <td>Trevon Hopson</td>\n",
       "      <td>No significant abnormality</td>\n",
       "      <td>1</td>\n",
       "    </tr>\n",
       "    <tr>\n",
       "      <th>1</th>\n",
       "      <td>US PELVIS</td>\n",
       "      <td>NaN</td>\n",
       "      <td>1985-12-02</td>\n",
       "      <td>11:40</td>\n",
       "      <td>Claire Melko</td>\n",
       "      <td>Indication: normal</td>\n",
       "      <td>1</td>\n",
       "    </tr>\n",
       "  </tbody>\n",
       "</table>\n",
       "</div>"
      ],
      "text/plain": [
       "   test_name ordered_date_time performed_date performed_time technician_name  \\\n",
       "0         US               NaN     1985-12-17          10:27   Trevon Hopson   \n",
       "1  US PELVIS               NaN     1985-12-02          11:40    Claire Melko   \n",
       "\n",
       "                 brief_report  de_id  \n",
       "0  No significant abnormality      1  \n",
       "1          Indication: normal      1  "
      ]
     },
     "execution_count": 26,
     "metadata": {},
     "output_type": "execute_result"
    }
   ],
   "source": [
    "df_img_ID.head(2)"
   ]
  },
  {
   "cell_type": "markdown",
   "metadata": {},
   "source": [
    "#### Filter the first performed test for each test_name and save the resulting dataframe as q4_df"
   ]
  },
  {
   "cell_type": "code",
   "execution_count": 30,
   "metadata": {},
   "outputs": [],
   "source": [
    "df_img_ID['performed_date_time']= pd.to_datetime(df_img_ID['performed_date']+ ' ' + df_img_ID['performed_time'], format='%Y-%m-%d %H:%M')"
   ]
  },
  {
   "cell_type": "code",
   "execution_count": 133,
   "metadata": {},
   "outputs": [
    {
     "data": {
      "text/html": [
       "<div>\n",
       "<style scoped>\n",
       "    .dataframe tbody tr th:only-of-type {\n",
       "        vertical-align: middle;\n",
       "    }\n",
       "\n",
       "    .dataframe tbody tr th {\n",
       "        vertical-align: top;\n",
       "    }\n",
       "\n",
       "    .dataframe thead th {\n",
       "        text-align: right;\n",
       "    }\n",
       "</style>\n",
       "<table border=\"1\" class=\"dataframe\">\n",
       "  <thead>\n",
       "    <tr style=\"text-align: right;\">\n",
       "      <th></th>\n",
       "      <th>test_name</th>\n",
       "      <th>performed_date_time</th>\n",
       "    </tr>\n",
       "  </thead>\n",
       "  <tbody>\n",
       "    <tr>\n",
       "      <th>0</th>\n",
       "      <td>US PELVIS</td>\n",
       "      <td>1985-12-02 11:40:00</td>\n",
       "    </tr>\n",
       "    <tr>\n",
       "      <th>1</th>\n",
       "      <td>Abdomen CT</td>\n",
       "      <td>1990-08-05 12:26:00</td>\n",
       "    </tr>\n",
       "    <tr>\n",
       "      <th>2</th>\n",
       "      <td>CT neck + head</td>\n",
       "      <td>1994-11-05 01:36:00</td>\n",
       "    </tr>\n",
       "    <tr>\n",
       "      <th>3</th>\n",
       "      <td>Ultrasound</td>\n",
       "      <td>2005-04-04 15:24:00</td>\n",
       "    </tr>\n",
       "    <tr>\n",
       "      <th>4</th>\n",
       "      <td>CT</td>\n",
       "      <td>1997-08-04 15:51:00</td>\n",
       "    </tr>\n",
       "    <tr>\n",
       "      <th>...</th>\n",
       "      <td>...</td>\n",
       "      <td>...</td>\n",
       "    </tr>\n",
       "    <tr>\n",
       "      <th>3089</th>\n",
       "      <td>US</td>\n",
       "      <td>2004-07-21 06:01:00</td>\n",
       "    </tr>\n",
       "    <tr>\n",
       "      <th>3090</th>\n",
       "      <td>CT</td>\n",
       "      <td>1996-09-07 23:35:00</td>\n",
       "    </tr>\n",
       "    <tr>\n",
       "      <th>3091</th>\n",
       "      <td>CT</td>\n",
       "      <td>2006-05-24 19:13:00</td>\n",
       "    </tr>\n",
       "    <tr>\n",
       "      <th>3092</th>\n",
       "      <td>Abdomen CT</td>\n",
       "      <td>1999-08-07 03:12:00</td>\n",
       "    </tr>\n",
       "    <tr>\n",
       "      <th>3093</th>\n",
       "      <td>DOPPLER US</td>\n",
       "      <td>2009-12-19 08:28:00</td>\n",
       "    </tr>\n",
       "  </tbody>\n",
       "</table>\n",
       "<p>3094 rows × 2 columns</p>\n",
       "</div>"
      ],
      "text/plain": [
       "           test_name performed_date_time\n",
       "0          US PELVIS 1985-12-02 11:40:00\n",
       "1         Abdomen CT 1990-08-05 12:26:00\n",
       "2     CT neck + head 1994-11-05 01:36:00\n",
       "3         Ultrasound 2005-04-04 15:24:00\n",
       "4                 CT 1997-08-04 15:51:00\n",
       "...              ...                 ...\n",
       "3089              US 2004-07-21 06:01:00\n",
       "3090              CT 1996-09-07 23:35:00\n",
       "3091              CT 2006-05-24 19:13:00\n",
       "3092      Abdomen CT 1999-08-07 03:12:00\n",
       "3093      DOPPLER US 2009-12-19 08:28:00\n",
       "\n",
       "[3094 rows x 2 columns]"
      ]
     },
     "execution_count": 133,
     "metadata": {},
     "output_type": "execute_result"
    }
   ],
   "source": [
    "earliest_tests = df_img_ID.loc[df_img_ID.groupby('de_id')['performed_date_time'].idxmin()]\n",
    "\n",
    "# 2. Create q4_df with de_id, test_name, and performed_date_time\n",
    "q4_df = earliest_tests[['test_name', 'performed_date_time']].reset_index(drop=True)\n",
    "q4_df\n"
   ]
  },
  {
   "cell_type": "markdown",
   "metadata": {},
   "source": [
    "##### Remove any rows with missing values (NA) in 2 or more variables and name the resulting data frame q5_df. Report the missing rate (%) in each field from this data frame."
   ]
  },
  {
   "cell_type": "code",
   "execution_count": 36,
   "metadata": {},
   "outputs": [],
   "source": [
    "q5_df = final_merged.dropna(thresh=len(admissions_img.columns) - 2)"
   ]
  },
  {
   "cell_type": "code",
   "execution_count": 37,
   "metadata": {},
   "outputs": [
    {
     "data": {
      "text/plain": [
       "admission_date           0.00\n",
       "admission_time           0.00\n",
       "discharge_date           0.00\n",
       "discharge_time           0.00\n",
       "department               0.00\n",
       "gender                   0.00\n",
       "age                      5.98\n",
       "main_diagnosis_icd10     0.00\n",
       "main_diagnosis_name      8.18\n",
       "de_id                    0.00\n",
       "test_name                0.00\n",
       "ordered_date_time       33.96\n",
       "performed_date           0.00\n",
       "performed_time           0.00\n",
       "technician_name          0.00\n",
       "brief_report             0.00\n",
       "admission_date_time      0.00\n",
       "discharge_date_time      0.00\n",
       "length_of_stay           0.00\n",
       "dtype: float64"
      ]
     },
     "execution_count": 37,
     "metadata": {},
     "output_type": "execute_result"
    }
   ],
   "source": [
    "missing_rate = (q5_df.isnull().mean() * 100).round(2)\n",
    "missing_rate"
   ]
  },
  {
   "cell_type": "markdown",
   "metadata": {},
   "source": [
    "##### Using the imaging data, create a frequency table of unique test_name, with decreasing order of frequency. Name this table img_mapper."
   ]
  },
  {
   "cell_type": "code",
   "execution_count": 39,
   "metadata": {},
   "outputs": [],
   "source": [
    "img_mapper= df_img_ID.groupby('test_name')['test_name'].count().sort_values(ascending=False)"
   ]
  },
  {
   "cell_type": "code",
   "execution_count": 82,
   "metadata": {},
   "outputs": [],
   "source": [
    "img_mapper_df = img_mapper.reset_index(name='frequency')\n",
    "img_mapper_df= pd.DataFrame({\n",
    "    'test_name': img_mapper_df['test_name'],\n",
    "    'frequency': img_mapper_df['frequency']\n",
    "})"
   ]
  },
  {
   "cell_type": "markdown",
   "metadata": {},
   "source": [
    "#### In img_mapper, add a column named mapped_test which classifies each unique test_name into 3 categories: \"US\" (or Ultrasound), \"CT\" and \"Others\""
   ]
  },
  {
   "cell_type": "code",
   "execution_count": 84,
   "metadata": {},
   "outputs": [],
   "source": [
    "img_mapper_df.loc[img_mapper_df['test_name'].str.contains('CT', case=False), 'mapped_test'] = 'CT'\n"
   ]
  },
  {
   "cell_type": "code",
   "execution_count": 90,
   "metadata": {},
   "outputs": [],
   "source": [
    "img_mapper_df.loc[img_mapper_df['test_name'].str.contains('US|Ultrasound', case=False), 'mapped_test'] = 'US'"
   ]
  },
  {
   "cell_type": "code",
   "execution_count": 92,
   "metadata": {},
   "outputs": [],
   "source": [
    "img_mapper_df.loc[~img_mapper_df['test_name'].str.contains('US|Ultrasound|CT', case=False), 'mapped_test'] = 'Others'"
   ]
  },
  {
   "cell_type": "code",
   "execution_count": 93,
   "metadata": {},
   "outputs": [
    {
     "data": {
      "text/html": [
       "<div>\n",
       "<style scoped>\n",
       "    .dataframe tbody tr th:only-of-type {\n",
       "        vertical-align: middle;\n",
       "    }\n",
       "\n",
       "    .dataframe tbody tr th {\n",
       "        vertical-align: top;\n",
       "    }\n",
       "\n",
       "    .dataframe thead th {\n",
       "        text-align: right;\n",
       "    }\n",
       "</style>\n",
       "<table border=\"1\" class=\"dataframe\">\n",
       "  <thead>\n",
       "    <tr style=\"text-align: right;\">\n",
       "      <th></th>\n",
       "      <th>test_name</th>\n",
       "      <th>frequency</th>\n",
       "      <th>mapped_test</th>\n",
       "    </tr>\n",
       "  </thead>\n",
       "  <tbody>\n",
       "    <tr>\n",
       "      <th>0</th>\n",
       "      <td>US</td>\n",
       "      <td>680</td>\n",
       "      <td>US</td>\n",
       "    </tr>\n",
       "    <tr>\n",
       "      <th>1</th>\n",
       "      <td>CT</td>\n",
       "      <td>511</td>\n",
       "      <td>CT</td>\n",
       "    </tr>\n",
       "    <tr>\n",
       "      <th>2</th>\n",
       "      <td>Ultrasound</td>\n",
       "      <td>441</td>\n",
       "      <td>US</td>\n",
       "    </tr>\n",
       "    <tr>\n",
       "      <th>3</th>\n",
       "      <td>ct neck and head</td>\n",
       "      <td>408</td>\n",
       "      <td>CT</td>\n",
       "    </tr>\n",
       "    <tr>\n",
       "      <th>4</th>\n",
       "      <td>US ABDOMEN</td>\n",
       "      <td>396</td>\n",
       "      <td>US</td>\n",
       "    </tr>\n",
       "    <tr>\n",
       "      <th>5</th>\n",
       "      <td>CT neck + head</td>\n",
       "      <td>385</td>\n",
       "      <td>CT</td>\n",
       "    </tr>\n",
       "    <tr>\n",
       "      <th>6</th>\n",
       "      <td>ABDOMEN/PELVIS US</td>\n",
       "      <td>313</td>\n",
       "      <td>US</td>\n",
       "    </tr>\n",
       "    <tr>\n",
       "      <th>7</th>\n",
       "      <td>CT - ABDOMEN</td>\n",
       "      <td>310</td>\n",
       "      <td>CT</td>\n",
       "    </tr>\n",
       "    <tr>\n",
       "      <th>8</th>\n",
       "      <td>NECK AND HEAD CT</td>\n",
       "      <td>248</td>\n",
       "      <td>CT</td>\n",
       "    </tr>\n",
       "    <tr>\n",
       "      <th>9</th>\n",
       "      <td>Doppler Ultrasound</td>\n",
       "      <td>233</td>\n",
       "      <td>US</td>\n",
       "    </tr>\n",
       "    <tr>\n",
       "      <th>10</th>\n",
       "      <td>Abdomen CT</td>\n",
       "      <td>157</td>\n",
       "      <td>CT</td>\n",
       "    </tr>\n",
       "    <tr>\n",
       "      <th>11</th>\n",
       "      <td>ct neck</td>\n",
       "      <td>146</td>\n",
       "      <td>CT</td>\n",
       "    </tr>\n",
       "    <tr>\n",
       "      <th>12</th>\n",
       "      <td>RT LEG DOPPLER</td>\n",
       "      <td>133</td>\n",
       "      <td>Others</td>\n",
       "    </tr>\n",
       "    <tr>\n",
       "      <th>13</th>\n",
       "      <td>DOPPLER US</td>\n",
       "      <td>115</td>\n",
       "      <td>US</td>\n",
       "    </tr>\n",
       "    <tr>\n",
       "      <th>14</th>\n",
       "      <td>LT LEG DOPPLER</td>\n",
       "      <td>107</td>\n",
       "      <td>Others</td>\n",
       "    </tr>\n",
       "    <tr>\n",
       "      <th>15</th>\n",
       "      <td>DOP LEG VEIN</td>\n",
       "      <td>101</td>\n",
       "      <td>Others</td>\n",
       "    </tr>\n",
       "    <tr>\n",
       "      <th>16</th>\n",
       "      <td>THORAX/ABDOMEN CT</td>\n",
       "      <td>100</td>\n",
       "      <td>CT</td>\n",
       "    </tr>\n",
       "    <tr>\n",
       "      <th>17</th>\n",
       "      <td>CT - Femur</td>\n",
       "      <td>89</td>\n",
       "      <td>CT</td>\n",
       "    </tr>\n",
       "    <tr>\n",
       "      <th>18</th>\n",
       "      <td>Head ct</td>\n",
       "      <td>82</td>\n",
       "      <td>CT</td>\n",
       "    </tr>\n",
       "    <tr>\n",
       "      <th>19</th>\n",
       "      <td>US PELVIS</td>\n",
       "      <td>45</td>\n",
       "      <td>US</td>\n",
       "    </tr>\n",
       "  </tbody>\n",
       "</table>\n",
       "</div>"
      ],
      "text/plain": [
       "             test_name  frequency mapped_test\n",
       "0                   US        680          US\n",
       "1                   CT        511          CT\n",
       "2           Ultrasound        441          US\n",
       "3     ct neck and head        408          CT\n",
       "4           US ABDOMEN        396          US\n",
       "5       CT neck + head        385          CT\n",
       "6    ABDOMEN/PELVIS US        313          US\n",
       "7         CT - ABDOMEN        310          CT\n",
       "8     NECK AND HEAD CT        248          CT\n",
       "9   Doppler Ultrasound        233          US\n",
       "10          Abdomen CT        157          CT\n",
       "11             ct neck        146          CT\n",
       "12      RT LEG DOPPLER        133      Others\n",
       "13          DOPPLER US        115          US\n",
       "14      LT LEG DOPPLER        107      Others\n",
       "15        DOP LEG VEIN        101      Others\n",
       "16   THORAX/ABDOMEN CT        100          CT\n",
       "17          CT - Femur         89          CT\n",
       "18             Head ct         82          CT\n",
       "19           US PELVIS         45          US"
      ]
     },
     "execution_count": 93,
     "metadata": {},
     "output_type": "execute_result"
    }
   ],
   "source": [
    "img_mapper_df"
   ]
  },
  {
   "cell_type": "markdown",
   "metadata": {},
   "source": [
    "#### In img_mapper, add another column named mapped_bodypart, which classifies each unique test_name into 3 categories, \"Neck/Head\", \"Abdomen/pelvis\", \"Others\". Display the table head."
   ]
  },
  {
   "cell_type": "code",
   "execution_count": 94,
   "metadata": {},
   "outputs": [],
   "source": [
    "img_mapper_df.loc[img_mapper_df['test_name'].str.contains('Neck|Head', case=False), 'mapped_bodypart'] = 'Neck/Head'\n",
    "img_mapper_df.loc[img_mapper_df['test_name'].str.contains('Abdomen|pelvis', case=False), 'mapped_bodypart'] = 'Abdomen/pelvis'\n",
    "img_mapper_df.loc[~img_mapper_df['test_name'].str.contains('Abdomen|pelvis|Neck|Head', case=False), 'mapped_bodypart'] = 'Others'"
   ]
  },
  {
   "cell_type": "code",
   "execution_count": 95,
   "metadata": {},
   "outputs": [
    {
     "data": {
      "text/html": [
       "<div>\n",
       "<style scoped>\n",
       "    .dataframe tbody tr th:only-of-type {\n",
       "        vertical-align: middle;\n",
       "    }\n",
       "\n",
       "    .dataframe tbody tr th {\n",
       "        vertical-align: top;\n",
       "    }\n",
       "\n",
       "    .dataframe thead th {\n",
       "        text-align: right;\n",
       "    }\n",
       "</style>\n",
       "<table border=\"1\" class=\"dataframe\">\n",
       "  <thead>\n",
       "    <tr style=\"text-align: right;\">\n",
       "      <th></th>\n",
       "      <th>test_name</th>\n",
       "      <th>frequency</th>\n",
       "      <th>mapped_test</th>\n",
       "      <th>mapped_bodypart</th>\n",
       "    </tr>\n",
       "  </thead>\n",
       "  <tbody>\n",
       "    <tr>\n",
       "      <th>0</th>\n",
       "      <td>US</td>\n",
       "      <td>680</td>\n",
       "      <td>US</td>\n",
       "      <td>Others</td>\n",
       "    </tr>\n",
       "    <tr>\n",
       "      <th>1</th>\n",
       "      <td>CT</td>\n",
       "      <td>511</td>\n",
       "      <td>CT</td>\n",
       "      <td>Others</td>\n",
       "    </tr>\n",
       "    <tr>\n",
       "      <th>2</th>\n",
       "      <td>Ultrasound</td>\n",
       "      <td>441</td>\n",
       "      <td>US</td>\n",
       "      <td>Others</td>\n",
       "    </tr>\n",
       "    <tr>\n",
       "      <th>3</th>\n",
       "      <td>ct neck and head</td>\n",
       "      <td>408</td>\n",
       "      <td>CT</td>\n",
       "      <td>Neck/Head</td>\n",
       "    </tr>\n",
       "    <tr>\n",
       "      <th>4</th>\n",
       "      <td>US ABDOMEN</td>\n",
       "      <td>396</td>\n",
       "      <td>US</td>\n",
       "      <td>Abdomen/pelvis</td>\n",
       "    </tr>\n",
       "    <tr>\n",
       "      <th>5</th>\n",
       "      <td>CT neck + head</td>\n",
       "      <td>385</td>\n",
       "      <td>CT</td>\n",
       "      <td>Neck/Head</td>\n",
       "    </tr>\n",
       "    <tr>\n",
       "      <th>6</th>\n",
       "      <td>ABDOMEN/PELVIS US</td>\n",
       "      <td>313</td>\n",
       "      <td>US</td>\n",
       "      <td>Abdomen/pelvis</td>\n",
       "    </tr>\n",
       "    <tr>\n",
       "      <th>7</th>\n",
       "      <td>CT - ABDOMEN</td>\n",
       "      <td>310</td>\n",
       "      <td>CT</td>\n",
       "      <td>Abdomen/pelvis</td>\n",
       "    </tr>\n",
       "    <tr>\n",
       "      <th>8</th>\n",
       "      <td>NECK AND HEAD CT</td>\n",
       "      <td>248</td>\n",
       "      <td>CT</td>\n",
       "      <td>Neck/Head</td>\n",
       "    </tr>\n",
       "    <tr>\n",
       "      <th>9</th>\n",
       "      <td>Doppler Ultrasound</td>\n",
       "      <td>233</td>\n",
       "      <td>US</td>\n",
       "      <td>Others</td>\n",
       "    </tr>\n",
       "    <tr>\n",
       "      <th>10</th>\n",
       "      <td>Abdomen CT</td>\n",
       "      <td>157</td>\n",
       "      <td>CT</td>\n",
       "      <td>Abdomen/pelvis</td>\n",
       "    </tr>\n",
       "    <tr>\n",
       "      <th>11</th>\n",
       "      <td>ct neck</td>\n",
       "      <td>146</td>\n",
       "      <td>CT</td>\n",
       "      <td>Neck/Head</td>\n",
       "    </tr>\n",
       "    <tr>\n",
       "      <th>12</th>\n",
       "      <td>RT LEG DOPPLER</td>\n",
       "      <td>133</td>\n",
       "      <td>Others</td>\n",
       "      <td>Others</td>\n",
       "    </tr>\n",
       "    <tr>\n",
       "      <th>13</th>\n",
       "      <td>DOPPLER US</td>\n",
       "      <td>115</td>\n",
       "      <td>US</td>\n",
       "      <td>Others</td>\n",
       "    </tr>\n",
       "    <tr>\n",
       "      <th>14</th>\n",
       "      <td>LT LEG DOPPLER</td>\n",
       "      <td>107</td>\n",
       "      <td>Others</td>\n",
       "      <td>Others</td>\n",
       "    </tr>\n",
       "    <tr>\n",
       "      <th>15</th>\n",
       "      <td>DOP LEG VEIN</td>\n",
       "      <td>101</td>\n",
       "      <td>Others</td>\n",
       "      <td>Others</td>\n",
       "    </tr>\n",
       "    <tr>\n",
       "      <th>16</th>\n",
       "      <td>THORAX/ABDOMEN CT</td>\n",
       "      <td>100</td>\n",
       "      <td>CT</td>\n",
       "      <td>Abdomen/pelvis</td>\n",
       "    </tr>\n",
       "    <tr>\n",
       "      <th>17</th>\n",
       "      <td>CT - Femur</td>\n",
       "      <td>89</td>\n",
       "      <td>CT</td>\n",
       "      <td>Others</td>\n",
       "    </tr>\n",
       "    <tr>\n",
       "      <th>18</th>\n",
       "      <td>Head ct</td>\n",
       "      <td>82</td>\n",
       "      <td>CT</td>\n",
       "      <td>Neck/Head</td>\n",
       "    </tr>\n",
       "    <tr>\n",
       "      <th>19</th>\n",
       "      <td>US PELVIS</td>\n",
       "      <td>45</td>\n",
       "      <td>US</td>\n",
       "      <td>Abdomen/pelvis</td>\n",
       "    </tr>\n",
       "  </tbody>\n",
       "</table>\n",
       "</div>"
      ],
      "text/plain": [
       "             test_name  frequency mapped_test mapped_bodypart\n",
       "0                   US        680          US          Others\n",
       "1                   CT        511          CT          Others\n",
       "2           Ultrasound        441          US          Others\n",
       "3     ct neck and head        408          CT       Neck/Head\n",
       "4           US ABDOMEN        396          US  Abdomen/pelvis\n",
       "5       CT neck + head        385          CT       Neck/Head\n",
       "6    ABDOMEN/PELVIS US        313          US  Abdomen/pelvis\n",
       "7         CT - ABDOMEN        310          CT  Abdomen/pelvis\n",
       "8     NECK AND HEAD CT        248          CT       Neck/Head\n",
       "9   Doppler Ultrasound        233          US          Others\n",
       "10          Abdomen CT        157          CT  Abdomen/pelvis\n",
       "11             ct neck        146          CT       Neck/Head\n",
       "12      RT LEG DOPPLER        133      Others          Others\n",
       "13          DOPPLER US        115          US          Others\n",
       "14      LT LEG DOPPLER        107      Others          Others\n",
       "15        DOP LEG VEIN        101      Others          Others\n",
       "16   THORAX/ABDOMEN CT        100          CT  Abdomen/pelvis\n",
       "17          CT - Femur         89          CT          Others\n",
       "18             Head ct         82          CT       Neck/Head\n",
       "19           US PELVIS         45          US  Abdomen/pelvis"
      ]
     },
     "execution_count": 95,
     "metadata": {},
     "output_type": "execute_result"
    }
   ],
   "source": [
    "img_mapper_df"
   ]
  },
  {
   "cell_type": "markdown",
   "metadata": {},
   "source": [
    "#### Investigate possible data quality issues in other source .csv file"
   ]
  },
  {
   "cell_type": "code",
   "execution_count": 101,
   "metadata": {},
   "outputs": [],
   "source": [
    "Q7_admdad = pd.read_csv(\"C:\\\\Users\\\\dell\\\\Downloads\\\\Q7_admdad.csv\")"
   ]
  },
  {
   "cell_type": "code",
   "execution_count": 102,
   "metadata": {},
   "outputs": [
    {
     "data": {
      "text/html": [
       "<div>\n",
       "<style scoped>\n",
       "    .dataframe tbody tr th:only-of-type {\n",
       "        vertical-align: middle;\n",
       "    }\n",
       "\n",
       "    .dataframe tbody tr th {\n",
       "        vertical-align: top;\n",
       "    }\n",
       "\n",
       "    .dataframe thead th {\n",
       "        text-align: right;\n",
       "    }\n",
       "</style>\n",
       "<table border=\"1\" class=\"dataframe\">\n",
       "  <thead>\n",
       "    <tr style=\"text-align: right;\">\n",
       "      <th></th>\n",
       "      <th>encounter_id</th>\n",
       "      <th>age</th>\n",
       "      <th>country</th>\n",
       "      <th>birth_date</th>\n",
       "      <th>admission_date</th>\n",
       "      <th>discharge_date</th>\n",
       "      <th>hospital_num</th>\n",
       "    </tr>\n",
       "  </thead>\n",
       "  <tbody>\n",
       "    <tr>\n",
       "      <th>0</th>\n",
       "      <td>704339</td>\n",
       "      <td>90</td>\n",
       "      <td>Canada</td>\n",
       "      <td>6/15/1933</td>\n",
       "      <td>45081</td>\n",
       "      <td>6/18/2023</td>\n",
       "      <td>101.0</td>\n",
       "    </tr>\n",
       "    <tr>\n",
       "      <th>1</th>\n",
       "      <td>508188</td>\n",
       "      <td>99</td>\n",
       "      <td>Canada</td>\n",
       "      <td>5/16/1924</td>\n",
       "      <td>45126</td>\n",
       "      <td>8/8/2023</td>\n",
       "      <td>101.0</td>\n",
       "    </tr>\n",
       "    <tr>\n",
       "      <th>2</th>\n",
       "      <td>365079</td>\n",
       "      <td>27</td>\n",
       "      <td>Canada</td>\n",
       "      <td>8/9/1996</td>\n",
       "      <td>45117</td>\n",
       "      <td>7/31/2023</td>\n",
       "      <td>101.0</td>\n",
       "    </tr>\n",
       "    <tr>\n",
       "      <th>3</th>\n",
       "      <td>881762</td>\n",
       "      <td>7</td>\n",
       "      <td>Canada</td>\n",
       "      <td>10/21/2015</td>\n",
       "      <td>1/15/2023</td>\n",
       "      <td>1/22/2023</td>\n",
       "      <td>102.0</td>\n",
       "    </tr>\n",
       "    <tr>\n",
       "      <th>4</th>\n",
       "      <td>775894</td>\n",
       "      <td>42</td>\n",
       "      <td>Canada</td>\n",
       "      <td>1/16/1981</td>\n",
       "      <td>6/29/2023</td>\n",
       "      <td>7/15/2023</td>\n",
       "      <td>102.0</td>\n",
       "    </tr>\n",
       "    <tr>\n",
       "      <th>...</th>\n",
       "      <td>...</td>\n",
       "      <td>...</td>\n",
       "      <td>...</td>\n",
       "      <td>...</td>\n",
       "      <td>...</td>\n",
       "      <td>...</td>\n",
       "      <td>...</td>\n",
       "    </tr>\n",
       "    <tr>\n",
       "      <th>166</th>\n",
       "      <td>873422</td>\n",
       "      <td>59</td>\n",
       "      <td>Canada</td>\n",
       "      <td>3/16/1965</td>\n",
       "      <td>12/13/2023</td>\n",
       "      <td>12/25/2023</td>\n",
       "      <td>102.0</td>\n",
       "    </tr>\n",
       "    <tr>\n",
       "      <th>167</th>\n",
       "      <td>612558</td>\n",
       "      <td>10</td>\n",
       "      <td>Canada</td>\n",
       "      <td>12/16/2013</td>\n",
       "      <td>10/30/2023</td>\n",
       "      <td>11/13/2023</td>\n",
       "      <td>101.0</td>\n",
       "    </tr>\n",
       "    <tr>\n",
       "      <th>168</th>\n",
       "      <td>163280</td>\n",
       "      <td>77</td>\n",
       "      <td>Canada</td>\n",
       "      <td>12/16/1972</td>\n",
       "      <td>8/24/2023</td>\n",
       "      <td>9/7/2023</td>\n",
       "      <td>102.0</td>\n",
       "    </tr>\n",
       "    <tr>\n",
       "      <th>169</th>\n",
       "      <td>208162</td>\n",
       "      <td>96</td>\n",
       "      <td>Canada</td>\n",
       "      <td>NaN</td>\n",
       "      <td>NaN</td>\n",
       "      <td>NaN</td>\n",
       "      <td>NaN</td>\n",
       "    </tr>\n",
       "    <tr>\n",
       "      <th>170</th>\n",
       "      <td>4/18/1968</td>\n",
       "      <td>3/3/2023</td>\n",
       "      <td>3/16/2023</td>\n",
       "      <td>101</td>\n",
       "      <td>NaN</td>\n",
       "      <td>NaN</td>\n",
       "      <td>NaN</td>\n",
       "    </tr>\n",
       "  </tbody>\n",
       "</table>\n",
       "<p>171 rows × 7 columns</p>\n",
       "</div>"
      ],
      "text/plain": [
       "    encounter_id       age    country  birth_date admission_date  \\\n",
       "0         704339        90     Canada   6/15/1933          45081   \n",
       "1         508188        99     Canada   5/16/1924          45126   \n",
       "2         365079        27     Canada    8/9/1996          45117   \n",
       "3         881762         7     Canada  10/21/2015      1/15/2023   \n",
       "4         775894        42     Canada   1/16/1981      6/29/2023   \n",
       "..           ...       ...        ...         ...            ...   \n",
       "166       873422        59     Canada   3/16/1965     12/13/2023   \n",
       "167       612558        10     Canada  12/16/2013     10/30/2023   \n",
       "168       163280        77     Canada  12/16/1972      8/24/2023   \n",
       "169       208162        96     Canada         NaN            NaN   \n",
       "170    4/18/1968  3/3/2023  3/16/2023         101            NaN   \n",
       "\n",
       "    discharge_date  hospital_num  \n",
       "0        6/18/2023         101.0  \n",
       "1         8/8/2023         101.0  \n",
       "2        7/31/2023         101.0  \n",
       "3        1/22/2023         102.0  \n",
       "4        7/15/2023         102.0  \n",
       "..             ...           ...  \n",
       "166     12/25/2023         102.0  \n",
       "167     11/13/2023         101.0  \n",
       "168       9/7/2023         102.0  \n",
       "169            NaN           NaN  \n",
       "170            NaN           NaN  \n",
       "\n",
       "[171 rows x 7 columns]"
      ]
     },
     "execution_count": 102,
     "metadata": {},
     "output_type": "execute_result"
    }
   ],
   "source": [
    "Q7_admdad "
   ]
  },
  {
   "cell_type": "code",
   "execution_count": null,
   "metadata": {},
   "outputs": [],
   "source": [
    "#admission date contains different values like \"45081\" "
   ]
  },
  {
   "cell_type": "code",
   "execution_count": 103,
   "metadata": {},
   "outputs": [
    {
     "data": {
      "text/plain": [
       "array(['45081', '45126', '45117', '1/15/2023', '6/29/2023', '9/16/2023',\n",
       "       '44977', '12/11/2023', '12/20/2023', '45156', '3/8/2023',\n",
       "       '6/10/2023', '5/5/2023', '1/21/2023', '7/8/2023', '45155',\n",
       "       '11/15/2023', '11/1/2023', '12/24/2023', '4/2/2023', '11/9/2023',\n",
       "       '12/25/2023', '5/4/2023', '8/23/2023', '6/5/2023', '44987',\n",
       "       '45100', '7/14/2023', '10/11/2023', '10/10/2023', '45017',\n",
       "       '10/5/2023', '8/20/2023', '11/26/2023', '6/30/2023', '5/18/2023',\n",
       "       '2/19/2023', '1/8/2023', '1/31/2023', '1/16/2023', '12/28/2023',\n",
       "       '45154', '5/6/2023', '10/17/2023', '6/26/2023', '2/9/2023',\n",
       "       '4/4/2023', '4/16/2023', '45137', '11/14/2023', '7/6/2023',\n",
       "       '8/6/2023', '10/30/2023', '4/17/2023', '4/26/2023', '6/19/2023',\n",
       "       '7/16/2023', '44948', '5/11/2023', '6/14/2023', '3/12/2023',\n",
       "       '2/13/2023', '45010', '45269', '2/27/2023', '9/18/2023',\n",
       "       '8/9/2023', '3/30/2023', '7/18/2023', '8/18/2023', '5/22/2023',\n",
       "       '44941', '44929', '11/8/2023', '2/25/2023', '45027', '10/16/2023',\n",
       "       '6/8/2023', '45115', '9/24/2023', '44938', '12/18/2023',\n",
       "       '11/16/2023', '12/27/2023', '5/14/2023', '5/27/2023', '5/3/2023',\n",
       "       '1/1/2023', '8/24/2023', '45288', '9/1/2023', '1/4/2023',\n",
       "       '12/14/2023', '10/12/2023', '3/10/2023', '6/20/2023', '45231',\n",
       "       '7/30/2023', '7/20/2023', '45090', '45060', '4/24/2023',\n",
       "       '11/4/2023', '44946', '11/18/2023', '8/2/2023', '45135',\n",
       "       '5/19/2023', '11/24/2023', '44982', '7/27/2023', '2/14/2023',\n",
       "       '7/19/2023', '2/22/2023', '8/1/2023', '4/1/2023', '1/25/2023',\n",
       "       '45033', '5/31/2023', '5/15/2023', '11/17/2023', '11/23/2023',\n",
       "       '44947', '3/27/2023', '10/18/2023', '2/18/2023', '8/4/2023',\n",
       "       '2/15/2023', '45063', '6/6/2023', '12/13/2023', nan], dtype=object)"
      ]
     },
     "execution_count": 103,
     "metadata": {},
     "output_type": "execute_result"
    }
   ],
   "source": [
    "Q7_admdad['admission_date'].unique()"
   ]
  },
  {
   "cell_type": "code",
   "execution_count": 104,
   "metadata": {},
   "outputs": [
    {
     "data": {
      "text/plain": [
       "encounter_id      0\n",
       "age               0\n",
       "country           0\n",
       "birth_date        1\n",
       "admission_date    2\n",
       "discharge_date    2\n",
       "hospital_num      2\n",
       "dtype: int64"
      ]
     },
     "execution_count": 104,
     "metadata": {},
     "output_type": "execute_result"
    }
   ],
   "source": [
    "Q7_admdad.isnull().sum()"
   ]
  },
  {
   "cell_type": "code",
   "execution_count": null,
   "metadata": {},
   "outputs": [],
   "source": [
    "#country contains different values like date"
   ]
  },
  {
   "cell_type": "code",
   "execution_count": 105,
   "metadata": {},
   "outputs": [
    {
     "data": {
      "text/plain": [
       "array(['Canada', 'United States', '3/16/2023'], dtype=object)"
      ]
     },
     "execution_count": 105,
     "metadata": {},
     "output_type": "execute_result"
    }
   ],
   "source": [
    "Q7_admdad['country'].unique()"
   ]
  },
  {
   "cell_type": "code",
   "execution_count": null,
   "metadata": {},
   "outputs": [],
   "source": [
    "#encounter_id contains different values like date"
   ]
  },
  {
   "cell_type": "code",
   "execution_count": 106,
   "metadata": {},
   "outputs": [
    {
     "data": {
      "text/plain": [
       "array(['704339', '508188', '365079', '881762', '775894', '811026',\n",
       "       '968137', '618965', '200580', '537062', '985237', '750030',\n",
       "       '635899', '339087', '553671', '684213', '243160', '573685',\n",
       "       '227726', '746354', '357897', '606544', '857482', '210072',\n",
       "       '267002', '154036', '853268', '871535', '363166', '754196',\n",
       "       '406728', '765847', '706824', '763228', '463208', '301156',\n",
       "       '427081', '801143', '578566', '757666', '378889', '561221',\n",
       "       '633241', '860732', '771243', '294441', '335407', '415480',\n",
       "       '146208', '230055', '201378', '880182', '667296', '956430',\n",
       "       '468221', '453376', '539783', '881843', '449649', '684435',\n",
       "       '724448', '780134', '778849', '705495', '782558', '846235',\n",
       "       '180870', '282750', '790497', '485313', '771181', '942845',\n",
       "       '685215', '759189', '104040', '998905', '731476', '723015',\n",
       "       '106226', '974322', '578364', '638517', '927092', '881361',\n",
       "       '165354', '921232', '123848', '436910', '734167', '300549',\n",
       "       '676913', '180521', '833551', '419175', '693533', '740839',\n",
       "       '606154', '455273', '540043', '689540', '980185', '188762',\n",
       "       '869315', '220363', '204227', '858283', '809098', '343007',\n",
       "       '373750', '569462', '473967', '329605', '556098', '323085',\n",
       "       '103057', '125715', '404730', '391955', '207022', '120437',\n",
       "       '941374', '372252', '231560', '208526', '476435', '207074',\n",
       "       '682081', '337817', '432212', '878885', '486121', '404623',\n",
       "       '773853', '688318', '757398', '485001', '985955', '313724',\n",
       "       '545849', '286276', '331469', '408528', '804382', '869584',\n",
       "       '310651', '434569', '873422', '612558', '163280', '208162',\n",
       "       '4/18/1968'], dtype=object)"
      ]
     },
     "execution_count": 106,
     "metadata": {},
     "output_type": "execute_result"
    }
   ],
   "source": [
    "Q7_admdad['encounter_id'].unique()"
   ]
  },
  {
   "cell_type": "code",
   "execution_count": null,
   "metadata": {},
   "outputs": [],
   "source": [
    "#age is not consistent, and also has date in few rows "
   ]
  },
  {
   "cell_type": "code",
   "execution_count": 107,
   "metadata": {},
   "outputs": [
    {
     "data": {
      "text/plain": [
       "array(['90', '99', '27', '7', '42', 'Age: 65', '43', '38', '100',\n",
       "       'Age: 50', '55', 'Age: 77', '10', '62', '41', '35', '67', '73',\n",
       "       '68', '60', '22', '74', '75', '8', '63', '51', '77', 'Age: 26',\n",
       "       'Age: 58', '39', '95', '26', 'Age: 96', 'Age: 94', '82', '1', '71',\n",
       "       '94', '89', '18', '49', 'Age: 61', '25', 'Age: 92', '32', '3', '5',\n",
       "       'Age: 66', '23', '86', '56', 'Age: 60', '98', '97', '13', '34',\n",
       "       '14', 'Age: 25', '11', '81', '79', '33', '40', '70', '69', '85',\n",
       "       '96', 'Age: 90', 'Age: 24', 'Age: 52', '52', '88', '44', '93',\n",
       "       'Age: 79', '65', '12', 'Age: 44', '50', '58', 'Age: 99', 'Age: 76',\n",
       "       '78', '47', 'Age: 32', '92', 'Age: 20', '45', '59', '3/3/2023'],\n",
       "      dtype=object)"
      ]
     },
     "execution_count": 107,
     "metadata": {},
     "output_type": "execute_result"
    }
   ],
   "source": [
    "Q7_admdad['age'].unique()"
   ]
  },
  {
   "cell_type": "code",
   "execution_count": null,
   "metadata": {},
   "outputs": [],
   "source": [
    "#birth date contains different values like \"101\""
   ]
  },
  {
   "cell_type": "code",
   "execution_count": 108,
   "metadata": {},
   "outputs": [
    {
     "data": {
      "text/plain": [
       "array(['6/15/1933', '5/16/1924', '8/9/1996', '10/21/2015', '1/16/1981',\n",
       "       '2/1/2001', '1/22/1980', '11/17/1985', '2/28/1924', '10/5/1929',\n",
       "       '4/17/1935', '10/2/1958', '9/6/1946', '6/20/2013', '4/5/1961',\n",
       "       '4/1/1982', '5/3/1974', '3/22/1989', '9/6/1956', '12/28/1949',\n",
       "       '7/17/1927', '12/29/1963', '12/31/2000', '11/18/1949', '4/9/1948',\n",
       "       '6/11/2015', '1/6/1960', '5/5/1975', '7/7/1946', '5/9/1997',\n",
       "       '11/27/1965', '6/5/1984', '3/15/1929', '6/27/1997', '5/5/1927',\n",
       "       '1/17/1925', '10/25/1961', '12/22/1928', '5/23/1946', '8/3/1949',\n",
       "       '12/6/1940', '6/10/1933', '11/2/2022', '11/13/1974', '6/27/1929',\n",
       "       '8/4/1934', '6/10/2005', '6/22/1941', '5/31/1974', '8/13/1962',\n",
       "       '10/21/1998', '9/2/2015', '5/23/1931', '1/20/1992', '8/19/1973',\n",
       "       '3/8/2020', '4/29/2018', '8/25/1957', '2/25/2000', '5/20/1937',\n",
       "       '12/21/1966', '4/12/1960', '11/20/1963', '12/3/1924', '3/8/1926',\n",
       "       '8/18/1923', '10/11/2010', '1/22/1988', '2/20/1983', '6/6/1989',\n",
       "       '7/17/2009', '9/19/1998', '11/2/2012', '3/22/1955', '4/13/1944',\n",
       "       '8/3/1966', '11/23/1953', '9/10/1985', '1/8/1988', '1/29/1991',\n",
       "       '9/23/1928', '3/26/1929', '9/17/1983', '5/1/1953', '10/16/1954',\n",
       "       '4/27/1984', '3/23/1938', '8/18/1925', '6/2/1957', '12/27/1950',\n",
       "       '12/31/1926', '2/6/1933', '6/13/1972', '2/14/1998', '10/24/1971',\n",
       "       '4/7/1941', '6/16/1971', '5/30/1935', '5/20/1979', '11/1/1984',\n",
       "       '1/14/1931', '8/10/1944', '8/20/1958', '1/31/1928', '2/23/1930',\n",
       "       '1/2/1981', '2/26/1933', '6/20/1958', '9/29/1997', '10/6/2011',\n",
       "       '6/15/1935', '3/29/1980', '8/26/2001', '7/25/1928', '7/3/1967',\n",
       "       '11/28/1949', '1/5/1947', '12/6/1971', '4/13/1973', '7/8/1991',\n",
       "       '1/27/1999', '6/25/2011', '1/27/1966', '6/4/1950', '5/3/1924',\n",
       "       '2/5/1956', '5/21/1954', '11/16/1955', '4/29/1947', '6/1/1946',\n",
       "       '8/19/2012', '1/22/1953', '5/9/1942', '11/20/1964', '4/1/1977',\n",
       "       '11/16/1945', '9/17/1990', '4/25/1979', '6/2/1931', '10/31/1998',\n",
       "       '9/26/1999', '2/5/1950', '1/23/1934', '7/19/2003', '12/15/1978',\n",
       "       '4/25/1929', '3/16/1965', '12/16/2013', '12/16/1972', nan, '101'],\n",
       "      dtype=object)"
      ]
     },
     "execution_count": 108,
     "metadata": {},
     "output_type": "execute_result"
    }
   ],
   "source": [
    "Q7_admdad['birth_date'].unique()"
   ]
  },
  {
   "cell_type": "code",
   "execution_count": null,
   "metadata": {},
   "outputs": [],
   "source": [
    "#encounter_id should be unique, but has 20 duplicated values"
   ]
  },
  {
   "cell_type": "code",
   "execution_count": 117,
   "metadata": {},
   "outputs": [
    {
     "data": {
      "text/html": [
       "<div>\n",
       "<style scoped>\n",
       "    .dataframe tbody tr th:only-of-type {\n",
       "        vertical-align: middle;\n",
       "    }\n",
       "\n",
       "    .dataframe tbody tr th {\n",
       "        vertical-align: top;\n",
       "    }\n",
       "\n",
       "    .dataframe thead th {\n",
       "        text-align: right;\n",
       "    }\n",
       "</style>\n",
       "<table border=\"1\" class=\"dataframe\">\n",
       "  <thead>\n",
       "    <tr style=\"text-align: right;\">\n",
       "      <th></th>\n",
       "      <th>encounter_id</th>\n",
       "      <th>age</th>\n",
       "      <th>country</th>\n",
       "      <th>birth_date</th>\n",
       "      <th>admission_date</th>\n",
       "      <th>discharge_date</th>\n",
       "      <th>hospital_num</th>\n",
       "    </tr>\n",
       "  </thead>\n",
       "  <tbody>\n",
       "    <tr>\n",
       "      <th>56</th>\n",
       "      <td>243160</td>\n",
       "      <td>Age: 50</td>\n",
       "      <td>Canada</td>\n",
       "      <td>5/3/1974</td>\n",
       "      <td>11/15/2023</td>\n",
       "      <td>11/29/2023</td>\n",
       "      <td>115.0</td>\n",
       "    </tr>\n",
       "    <tr>\n",
       "      <th>57</th>\n",
       "      <td>811026</td>\n",
       "      <td>Age: 65</td>\n",
       "      <td>Canada</td>\n",
       "      <td>2/1/2001</td>\n",
       "      <td>9/16/2023</td>\n",
       "      <td>10/5/2023</td>\n",
       "      <td>102.0</td>\n",
       "    </tr>\n",
       "    <tr>\n",
       "      <th>67</th>\n",
       "      <td>811026</td>\n",
       "      <td>Age: 65</td>\n",
       "      <td>Canada</td>\n",
       "      <td>2/1/2001</td>\n",
       "      <td>9/16/2023</td>\n",
       "      <td>10/5/2023</td>\n",
       "      <td>102.0</td>\n",
       "    </tr>\n",
       "    <tr>\n",
       "      <th>71</th>\n",
       "      <td>357897</td>\n",
       "      <td>68</td>\n",
       "      <td>Canada</td>\n",
       "      <td>7/17/1927</td>\n",
       "      <td>11/9/2023</td>\n",
       "      <td>11/13/2023</td>\n",
       "      <td>101.0</td>\n",
       "    </tr>\n",
       "    <tr>\n",
       "      <th>83</th>\n",
       "      <td>468221</td>\n",
       "      <td>26</td>\n",
       "      <td>United States</td>\n",
       "      <td>8/19/1973</td>\n",
       "      <td>10/30/2023</td>\n",
       "      <td>11/20/2023</td>\n",
       "      <td>120.0</td>\n",
       "    </tr>\n",
       "    <tr>\n",
       "      <th>85</th>\n",
       "      <td>468221</td>\n",
       "      <td>26</td>\n",
       "      <td>United States</td>\n",
       "      <td>8/19/1973</td>\n",
       "      <td>10/30/2023</td>\n",
       "      <td>11/20/2023</td>\n",
       "      <td>120.0</td>\n",
       "    </tr>\n",
       "    <tr>\n",
       "      <th>86</th>\n",
       "      <td>750030</td>\n",
       "      <td>55</td>\n",
       "      <td>Canada</td>\n",
       "      <td>10/2/1958</td>\n",
       "      <td>6/10/2023</td>\n",
       "      <td>6/23/2023</td>\n",
       "      <td>101.0</td>\n",
       "    </tr>\n",
       "    <tr>\n",
       "      <th>98</th>\n",
       "      <td>468221</td>\n",
       "      <td>26</td>\n",
       "      <td>United States</td>\n",
       "      <td>8/19/1973</td>\n",
       "      <td>10/30/2023</td>\n",
       "      <td>11/20/2023</td>\n",
       "      <td>120.0</td>\n",
       "    </tr>\n",
       "    <tr>\n",
       "      <th>103</th>\n",
       "      <td>811026</td>\n",
       "      <td>Age: 65</td>\n",
       "      <td>Canada</td>\n",
       "      <td>2/1/2001</td>\n",
       "      <td>9/16/2023</td>\n",
       "      <td>10/5/2023</td>\n",
       "      <td>102.0</td>\n",
       "    </tr>\n",
       "    <tr>\n",
       "      <th>106</th>\n",
       "      <td>750030</td>\n",
       "      <td>55</td>\n",
       "      <td>Canada</td>\n",
       "      <td>10/2/1958</td>\n",
       "      <td>6/10/2023</td>\n",
       "      <td>6/23/2023</td>\n",
       "      <td>101.0</td>\n",
       "    </tr>\n",
       "    <tr>\n",
       "      <th>111</th>\n",
       "      <td>750030</td>\n",
       "      <td>55</td>\n",
       "      <td>Canada</td>\n",
       "      <td>10/2/1958</td>\n",
       "      <td>6/10/2023</td>\n",
       "      <td>6/23/2023</td>\n",
       "      <td>101.0</td>\n",
       "    </tr>\n",
       "    <tr>\n",
       "      <th>115</th>\n",
       "      <td>357897</td>\n",
       "      <td>68</td>\n",
       "      <td>Canada</td>\n",
       "      <td>7/17/1927</td>\n",
       "      <td>11/9/2023</td>\n",
       "      <td>11/13/2023</td>\n",
       "      <td>101.0</td>\n",
       "    </tr>\n",
       "    <tr>\n",
       "      <th>119</th>\n",
       "      <td>243160</td>\n",
       "      <td>Age: 50</td>\n",
       "      <td>Canada</td>\n",
       "      <td>5/3/1974</td>\n",
       "      <td>11/15/2023</td>\n",
       "      <td>11/29/2023</td>\n",
       "      <td>115.0</td>\n",
       "    </tr>\n",
       "    <tr>\n",
       "      <th>121</th>\n",
       "      <td>468221</td>\n",
       "      <td>26</td>\n",
       "      <td>United States</td>\n",
       "      <td>8/19/1973</td>\n",
       "      <td>10/30/2023</td>\n",
       "      <td>11/20/2023</td>\n",
       "      <td>120.0</td>\n",
       "    </tr>\n",
       "    <tr>\n",
       "      <th>136</th>\n",
       "      <td>243160</td>\n",
       "      <td>Age: 50</td>\n",
       "      <td>Canada</td>\n",
       "      <td>5/3/1974</td>\n",
       "      <td>11/15/2023</td>\n",
       "      <td>11/29/2023</td>\n",
       "      <td>115.0</td>\n",
       "    </tr>\n",
       "    <tr>\n",
       "      <th>140</th>\n",
       "      <td>750030</td>\n",
       "      <td>55</td>\n",
       "      <td>Canada</td>\n",
       "      <td>10/2/1958</td>\n",
       "      <td>6/10/2023</td>\n",
       "      <td>6/23/2023</td>\n",
       "      <td>101.0</td>\n",
       "    </tr>\n",
       "    <tr>\n",
       "      <th>148</th>\n",
       "      <td>811026</td>\n",
       "      <td>Age: 65</td>\n",
       "      <td>Canada</td>\n",
       "      <td>2/1/2001</td>\n",
       "      <td>9/16/2023</td>\n",
       "      <td>10/5/2023</td>\n",
       "      <td>102.0</td>\n",
       "    </tr>\n",
       "    <tr>\n",
       "      <th>152</th>\n",
       "      <td>357897</td>\n",
       "      <td>68</td>\n",
       "      <td>Canada</td>\n",
       "      <td>7/17/1927</td>\n",
       "      <td>11/9/2023</td>\n",
       "      <td>11/13/2023</td>\n",
       "      <td>101.0</td>\n",
       "    </tr>\n",
       "    <tr>\n",
       "      <th>159</th>\n",
       "      <td>357897</td>\n",
       "      <td>68</td>\n",
       "      <td>Canada</td>\n",
       "      <td>7/17/1927</td>\n",
       "      <td>11/9/2023</td>\n",
       "      <td>11/13/2023</td>\n",
       "      <td>101.0</td>\n",
       "    </tr>\n",
       "    <tr>\n",
       "      <th>164</th>\n",
       "      <td>243160</td>\n",
       "      <td>Age: 50</td>\n",
       "      <td>Canada</td>\n",
       "      <td>5/3/1974</td>\n",
       "      <td>11/15/2023</td>\n",
       "      <td>11/29/2023</td>\n",
       "      <td>115.0</td>\n",
       "    </tr>\n",
       "  </tbody>\n",
       "</table>\n",
       "</div>"
      ],
      "text/plain": [
       "    encounter_id      age        country birth_date admission_date  \\\n",
       "56        243160  Age: 50         Canada   5/3/1974     11/15/2023   \n",
       "57        811026  Age: 65         Canada   2/1/2001      9/16/2023   \n",
       "67        811026  Age: 65         Canada   2/1/2001      9/16/2023   \n",
       "71        357897       68         Canada  7/17/1927      11/9/2023   \n",
       "83        468221       26  United States  8/19/1973     10/30/2023   \n",
       "85        468221       26  United States  8/19/1973     10/30/2023   \n",
       "86        750030       55         Canada  10/2/1958      6/10/2023   \n",
       "98        468221       26  United States  8/19/1973     10/30/2023   \n",
       "103       811026  Age: 65         Canada   2/1/2001      9/16/2023   \n",
       "106       750030       55         Canada  10/2/1958      6/10/2023   \n",
       "111       750030       55         Canada  10/2/1958      6/10/2023   \n",
       "115       357897       68         Canada  7/17/1927      11/9/2023   \n",
       "119       243160  Age: 50         Canada   5/3/1974     11/15/2023   \n",
       "121       468221       26  United States  8/19/1973     10/30/2023   \n",
       "136       243160  Age: 50         Canada   5/3/1974     11/15/2023   \n",
       "140       750030       55         Canada  10/2/1958      6/10/2023   \n",
       "148       811026  Age: 65         Canada   2/1/2001      9/16/2023   \n",
       "152       357897       68         Canada  7/17/1927      11/9/2023   \n",
       "159       357897       68         Canada  7/17/1927      11/9/2023   \n",
       "164       243160  Age: 50         Canada   5/3/1974     11/15/2023   \n",
       "\n",
       "    discharge_date  hospital_num  \n",
       "56      11/29/2023         115.0  \n",
       "57       10/5/2023         102.0  \n",
       "67       10/5/2023         102.0  \n",
       "71      11/13/2023         101.0  \n",
       "83      11/20/2023         120.0  \n",
       "85      11/20/2023         120.0  \n",
       "86       6/23/2023         101.0  \n",
       "98      11/20/2023         120.0  \n",
       "103      10/5/2023         102.0  \n",
       "106      6/23/2023         101.0  \n",
       "111      6/23/2023         101.0  \n",
       "115     11/13/2023         101.0  \n",
       "119     11/29/2023         115.0  \n",
       "121     11/20/2023         120.0  \n",
       "136     11/29/2023         115.0  \n",
       "140      6/23/2023         101.0  \n",
       "148      10/5/2023         102.0  \n",
       "152     11/13/2023         101.0  \n",
       "159     11/13/2023         101.0  \n",
       "164     11/29/2023         115.0  "
      ]
     },
     "execution_count": 117,
     "metadata": {},
     "output_type": "execute_result"
    }
   ],
   "source": [
    "Q7_admdad[Q7_admdad['encounter_id'].duplicated()]"
   ]
  }
 ],
 "metadata": {
  "kernelspec": {
   "display_name": "carpred",
   "language": "python",
   "name": "python3"
  },
  "language_info": {
   "codemirror_mode": {
    "name": "ipython",
    "version": 3
   },
   "file_extension": ".py",
   "mimetype": "text/x-python",
   "name": "python",
   "nbconvert_exporter": "python",
   "pygments_lexer": "ipython3",
   "version": "3.11.9"
  }
 },
 "nbformat": 4,
 "nbformat_minor": 2
}
